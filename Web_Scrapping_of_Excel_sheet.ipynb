{
  "cells": [
    {
      "cell_type": "markdown",
      "metadata": {
        "id": "view-in-github",
        "colab_type": "text"
      },
      "source": [
        "<a href=\"https://colab.research.google.com/github/axshay007/Task_1/blob/main/Web_Scrapping_of_Excel_sheet.ipynb\" target=\"_parent\"><img src=\"https://colab.research.google.com/assets/colab-badge.svg\" alt=\"Open In Colab\"/></a>"
      ]
    },
    {
      "cell_type": "code",
      "execution_count": null,
      "metadata": {
        "colab": {
          "background_save": true
        },
        "id": "kqOx4r4CO0rJ"
      },
      "outputs": [],
      "source": [
        "import gspread\n",
        "from oauth2client.service_account import ServiceAccountCredentials\n",
        "from bs4 import BeautifulSoup\n",
        "import requests\n"
      ]
    },
    {
      "cell_type": "code",
      "execution_count": null,
      "metadata": {
        "colab": {
          "background_save": true
        },
        "id": "cdn_MxtCj9_O"
      },
      "outputs": [],
      "source": [
        "# Set up credentials\n",
        "scope = ['https://spreadsheets.google.com/feeds']\n",
        "credentials = ServiceAccountCredentials.from_json_keyfile_name('/content/sharp-bivouac-350620-fae201e42bf1.json', scope)\n"
      ]
    },
    {
      "cell_type": "code",
      "execution_count": null,
      "metadata": {
        "colab": {
          "background_save": true
        },
        "id": "ZHaz52TCkAfC"
      },
      "outputs": [],
      "source": [
        "# Authorize and open the sheet\n",
        "gc = gspread.authorize(credentials)\n",
        "sh = gc.open_by_url('https://docs.google.com/spreadsheets/d/1xc2nmNpaePJV6w4ro8uAnzCSE9wIf3NELejcGe15cIk/edit#gid=0')\n",
        "worksheet = sh.sheet1\n"
      ]
    },
    {
      "cell_type": "code",
      "execution_count": null,
      "metadata": {
        "colab": {
          "background_save": true
        },
        "id": "_GMSw16TkC4I"
      },
      "outputs": [],
      "source": [
        "# Read the list of websites\n",
        "websites = worksheet.col_values(1)\n"
      ]
    },
    {
      "cell_type": "code",
      "execution_count": null,
      "metadata": {
        "colab": {
          "background_save": true,
          "base_uri": "https://localhost:8080/"
        },
        "id": "_dNLYS0genyu",
        "outputId": "5d9f67a2-3092-47c2-e4e6-2970a52c5373"
      },
      "outputs": [
        {
          "name": "stdout",
          "output_type": "stream",
          "text": [
            "None\n"
          ]
        },
        {
          "name": "stderr",
          "output_type": "stream",
          "text": [
            "<ipython-input-61-20490bf687fe>:27: DeprecationWarning: The 'text' argument to find()-type methods is deprecated. Use 'string' instead.\n",
            "  address_element = soup.find(text='Address:')\n"
          ]
        }
      ],
      "source": [
        "# Loop through the websites and scrape the addresses\n",
        "for website in websites:\n",
        "    # Use BeautifulSoup to scrape the address from the website\n",
        "    page = requests.get(\"https://docs.google.com/spreadsheets/d/1MdErotSQunkqyDCjLva3ILExp-UL2RVhNWzybBCqjdI/edit#gid=1046942027\")\n",
        "    soup = BeautifulSoup(page.content, 'html.parser')\n",
        "    \n",
        "    \n",
        "    def find_address(soup):\n",
        "    # # Try to find a <div> element with a class of \"adr\"\n",
        "      #  address_element = soup.find('div', class_='adr')\n",
        "      #  if address_element:\n",
        "      #    return address_element\n",
        "\n",
        "    # # Try to find a <p> element with a class of \"entry-content\"\n",
        "      #  address_element = soup.find('p', class_='entry-content')\n",
        "      #  if address_element:\n",
        "      #     return address_element\n",
        "\n",
        "    \n",
        "\n",
        "    # Try to find an <address> element with a class of \"margin-bottom-40\"\n",
        "         address_element = soup.find('address', class_='margin-bottom-40')\n",
        "         if address_element:\n",
        "            return address_element\n",
        "\n",
        "     # Try to find an element that contains the text \"Address:\"\n",
        "         address_element = soup.find(text='Address:')\n",
        "         if address_element:\n",
        "          return address_element.parent\n",
        "\n",
        "    # If no address element was found, return None\n",
        "          return None\n",
        "\n",
        "\n",
        "\n",
        "# Use the find_address() function to locate the address element\n",
        "address_element = find_address(soup)\n",
        "if address_element:\n",
        "    address = address_element.text.strip()\n",
        "    print(address)\n",
        "else:\n",
        "    print(\"None\")"
      ]
    },
    {
      "cell_type": "code",
      "execution_count": null,
      "metadata": {
        "colab": {
          "background_save": true
        },
        "id": "614lDyERkPKY"
      },
      "outputs": [],
      "source": []
    }
  ],
  "metadata": {
    "colab": {
      "provenance": [],
      "authorship_tag": "ABX9TyOi3bPqGZMbNfGhIelhGwMK",
      "include_colab_link": true
    },
    "kernelspec": {
      "display_name": "Python 3",
      "name": "python3"
    },
    "language_info": {
      "name": "python"
    }
  },
  "nbformat": 4,
  "nbformat_minor": 0
}